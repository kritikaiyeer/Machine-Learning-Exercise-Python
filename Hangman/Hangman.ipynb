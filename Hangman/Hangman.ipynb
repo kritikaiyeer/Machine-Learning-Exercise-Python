{
  "nbformat": 4,
  "nbformat_minor": 0,
  "metadata": {
    "colab": {
      "name": "Hangman.ipynb",
      "provenance": []
    },
    "kernelspec": {
      "name": "python3",
      "display_name": "Python 3"
    }
  },
  "cells": [
    {
      "cell_type": "markdown",
      "metadata": {
        "id": "8u43tLX5IeBG"
      },
      "source": [
        "Assignment 2 Hangman"
      ]
    },
    {
      "cell_type": "code",
      "metadata": {
        "colab": {
          "base_uri": "https://localhost:8080/"
        },
        "id": "X3w9-B5-IbTL",
        "outputId": "8c59241f-7135-49c2-cf17-635bba85fb0e"
      },
      "source": [
        "import random\n",
        "with open('/wordlist.txt', 'r') as f:\n",
        "  words = f.readlines()\n",
        "\n",
        "word = 'Rabbit'\n",
        "\n",
        "difficulty_level = {\n",
        "    '1' : 10,\n",
        "    '2' : 7,\n",
        "    '3' : 5,\n",
        "}\n",
        "\n",
        "guesses = []\n",
        "done = False\n",
        "\n",
        "print(\"------Welcome to Hangman Game!----------\")\n",
        "print(\"Please enter the difficulty Level for your game:\")\n",
        "print(\"1. Easy (Allowed Errors = 10)\")\n",
        "print(\"2. Medium (Allowed Errors = 7)\")\n",
        "print(\"3. Hard (Allowed Errors = 5)\")\n",
        "\n",
        "level = input(\"Enter your choice\")\n",
        "\n",
        "allowed_errors = difficulty_level.get(level, -1)\n",
        "\n",
        "while not done:\n",
        "  for letter in word:\n",
        "    if letter.lower() in guesses:\n",
        "      print(letter, end=\" \")\n",
        "    else:\n",
        "      print(\"_\", end=\" \")\n",
        "\n",
        "  print(\"\")\n",
        "\n",
        "  guess = input(f\"Allowed errors left {allowed_errors}, Next Guess: \")\n",
        "  guesses.append(guess.lower())\n",
        "  if guess.lower() not in word.lower():\n",
        "    allowed_errors -=1\n",
        "    if allowed_errors == 0:\n",
        "      break\n",
        "  done = True\n",
        "\n",
        "  for letter in word:\n",
        "    if letter.lower() not in guesses:\n",
        "      done = False\n",
        "\n",
        "if done:\n",
        "  print(f\"You found the word! It was {word} !\")\n",
        "else:\n",
        "  print(f\"Game Over ! The word was {word} !\")  \n",
        "\n"
      ],
      "execution_count": null,
      "outputs": [
        {
          "output_type": "stream",
          "text": [
            "------Welcome to Hangman Game!----------\n",
            "Please enter the difficulty Level for your game:\n",
            "1. Easy (Allowed Errors = 10)\n",
            "2. Medium (Allowed Errors = 7)\n",
            "3. Hard (Allowed Errors = 5)\n",
            "Enter your choice2\n",
            "_ _ _ _ _ _ \n",
            "Allowed errors left 7, Next Guess: a\n",
            "_ a _ _ _ _ \n",
            "Allowed errors left 7, Next Guess: b\n",
            "_ a b b _ _ \n",
            "Allowed errors left 7, Next Guess: s\n",
            "_ a b b _ _ \n",
            "Allowed errors left 6, Next Guess: w\n",
            "_ a b b _ _ \n",
            "Allowed errors left 5, Next Guess: r\n",
            "R a b b _ _ \n",
            "Allowed errors left 5, Next Guess: i\n",
            "R a b b i _ \n",
            "Allowed errors left 5, Next Guess: t\n",
            "You found the word! It was Rabbit !\n"
          ],
          "name": "stdout"
        }
      ]
    }
  ]
}