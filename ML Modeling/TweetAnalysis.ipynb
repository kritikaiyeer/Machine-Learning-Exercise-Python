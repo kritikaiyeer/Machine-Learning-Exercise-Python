{
  "nbformat": 4,
  "nbformat_minor": 0,
  "metadata": {
    "colab": {
      "name": "TweetAnalysis.ipynb",
      "provenance": []
    },
    "kernelspec": {
      "name": "python3",
      "display_name": "Python 3"
    }
  },
  "cells": [
    {
      "cell_type": "code",
      "metadata": {
        "id": "1v7a-5tF4_w2"
      },
      "source": [
        "\n",
        "#Description:  A sentiment Analysis program  that parses the tweets fetched from Twitter using Python"
      ],
      "execution_count": null,
      "outputs": []
    },
    {
      "cell_type": "code",
      "metadata": {
        "id": "4gLfmB4epNXl"
      },
      "source": [
        "# import the libraries\n",
        "\n",
        "import tweepy\n",
        "from textblob import TextBlob\n",
        "from wordcloud import WordCloud\n",
        "import pandas as pd\n",
        "import numpy as np\n",
        "import re\n",
        "import matplotlib.pyplot as plt\n",
        "plt.style.use('fivethirtyeight')\n",
        "\n"
      ],
      "execution_count": null,
      "outputs": []
    },
    {
      "cell_type": "code",
      "metadata": {
        "colab": {
          "resources": {
            "http://localhost:8080/nbextensions/google.colab/files.js": {
              "data": "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",
              "ok": true,
              "headers": [
                [
                  "content-type",
                  "application/javascript"
                ]
              ],
              "status": 200,
              "status_text": ""
            }
          },
          "base_uri": "https://localhost:8080/",
          "height": 73
        },
        "id": "dawWOQ1aqTEd",
        "outputId": "eaa27302-750f-4ab7-b1e5-7a4ffa5fb7e8"
      },
      "source": [
        "# load the data\n",
        "\n",
        "from google.colab import files\n",
        "uploaded = files.upload()"
      ],
      "execution_count": null,
      "outputs": [
        {
          "output_type": "display_data",
          "data": {
            "text/html": [
              "\n",
              "     <input type=\"file\" id=\"files-7719bdd6-955e-473a-a0ea-981a514371f5\" name=\"files[]\" multiple disabled\n",
              "        style=\"border:none\" />\n",
              "     <output id=\"result-7719bdd6-955e-473a-a0ea-981a514371f5\">\n",
              "      Upload widget is only available when the cell has been executed in the\n",
              "      current browser session. Please rerun this cell to enable.\n",
              "      </output>\n",
              "      <script src=\"/nbextensions/google.colab/files.js\"></script> "
            ],
            "text/plain": [
              "<IPython.core.display.HTML object>"
            ]
          },
          "metadata": {
            "tags": []
          }
        },
        {
          "output_type": "stream",
          "text": [
            "Saving twitterLogin - Sheet1.csv to twitterLogin - Sheet1.csv\n"
          ],
          "name": "stdout"
        }
      ]
    },
    {
      "cell_type": "code",
      "metadata": {
        "id": "kG49f3QRtr81"
      },
      "source": [
        "twitterLogin = pd.read_csv('twitter.csv')"
      ],
      "execution_count": null,
      "outputs": []
    },
    {
      "cell_type": "code",
      "metadata": {
        "id": "JxC-EgaIt5rS"
      },
      "source": [
        "consumerKey = twitterLogin['key'][0]\n",
        "consumerSecret = twitterLogin['key'][1]\n",
        "accessToken = twitterLogin['key'][2]\n",
        "accessTokenSeceret = twitterLogin['key'][3]"
      ],
      "execution_count": null,
      "outputs": []
    },
    {
      "cell_type": "code",
      "metadata": {
        "id": "vWKj21v-uPP5"
      },
      "source": [
        "#Create the authentication object\n",
        "\n",
        "authenticate = tweepy.OAuthHandler(consumerKey, consumerSecret)\n",
        "\n",
        "#Set access token and access token secret\n",
        "\n",
        "authenticate.set_access_token(accessToken, accessTokenSeceret)\n",
        "\n",
        "#Create the API object while passing the auth information\n",
        "api = tweepy.API(authenticate, wait_on_rate_limit= True) "
      ],
      "execution_count": null,
      "outputs": []
    },
    {
      "cell_type": "code",
      "metadata": {
        "colab": {
          "base_uri": "https://localhost:8080/"
        },
        "id": "TPjpBSwnvKwy",
        "outputId": "6a864cd1-77a5-4508-c49a-de9d96e5a856"
      },
      "source": [
        "# Extract 100 tweets from twitter user\n",
        "\n",
        "posts = api.user_timeline(screen_name = \"BillGates\", count = 100, lang= \"en\", tweet_mode=\"extended\")\n",
        "\n",
        "#Print the last 5 tweets from the account\n",
        "print(\"show the 5 recent tweets: \\n\")\n",
        "i = 1\n",
        "for tweet in posts[0:5]:\n",
        "  print(str(i) + ')' +tweet.full_text + '\\n')\n",
        "  i = i+1"
      ],
      "execution_count": null,
      "outputs": [
        {
          "output_type": "stream",
          "text": [
            "show the 5 recent tweets: \n",
            "\n",
            "1)This new quiz from @Gapminder is a clever way to fight misconceptions and “upgrade your worldview” about the incredible progress the world has made toward the Sustainable Development Goals to end poverty, fight inequality, and stop climate change: https://t.co/Qo0oaxv1tb\n",
            "\n",
            "2)Rashida Jones and I talked to Yuval Noah Harari about COVID conspiracy theories, the role social media plays in spreading misinformation, and the one lie I choose to believe even though I know it’s not always true: https://t.co/7pzUFsMf5D https://t.co/YEjZaXLTbJ\n",
            "\n",
            "3)I believe we can avoid a climate disaster—if we deploy the clean-energy tools we have now wisely, and if we make big breakthroughs that touch every aspect of our physical economy. Creating the National Institutes of Energy Innovation would put us on the right path.\n",
            "\n",
            "4)To reduce duplication, focus the government’s efforts, and get the most innovation out of every dollar of funding, we should create a new organization: the National Institutes of Energy Innovation.\n",
            "\n",
            "5)We need to revolutionize the world’s physical economy—and that will take, among other things, a dramatic infusion of ingenuity, funding, and focus from the federal government.\n",
            "\n"
          ],
          "name": "stdout"
        }
      ]
    },
    {
      "cell_type": "code",
      "metadata": {
        "colab": {
          "base_uri": "https://localhost:8080/",
          "height": 196
        },
        "id": "nB16ZHlIw9cB",
        "outputId": "485b1bea-4d53-4e00-ca47-f1d1b1b9a79e"
      },
      "source": [
        "#Create a dataframe with a column called Tweets\n",
        "df = pd.DataFrame([tweet.full_text for tweet in posts], columns=['Tweets'])\n",
        "\n",
        "#show the first 5 rows of data\n",
        "df.head()"
      ],
      "execution_count": null,
      "outputs": [
        {
          "output_type": "execute_result",
          "data": {
            "text/html": [
              "<div>\n",
              "<style scoped>\n",
              "    .dataframe tbody tr th:only-of-type {\n",
              "        vertical-align: middle;\n",
              "    }\n",
              "\n",
              "    .dataframe tbody tr th {\n",
              "        vertical-align: top;\n",
              "    }\n",
              "\n",
              "    .dataframe thead th {\n",
              "        text-align: right;\n",
              "    }\n",
              "</style>\n",
              "<table border=\"1\" class=\"dataframe\">\n",
              "  <thead>\n",
              "    <tr style=\"text-align: right;\">\n",
              "      <th></th>\n",
              "      <th>Tweets</th>\n",
              "    </tr>\n",
              "  </thead>\n",
              "  <tbody>\n",
              "    <tr>\n",
              "      <th>0</th>\n",
              "      <td>This new quiz from @Gapminder is a clever way ...</td>\n",
              "    </tr>\n",
              "    <tr>\n",
              "      <th>1</th>\n",
              "      <td>Rashida Jones and I talked to Yuval Noah Harar...</td>\n",
              "    </tr>\n",
              "    <tr>\n",
              "      <th>2</th>\n",
              "      <td>I believe we can avoid a climate disaster—if w...</td>\n",
              "    </tr>\n",
              "    <tr>\n",
              "      <th>3</th>\n",
              "      <td>To reduce duplication, focus the government’s ...</td>\n",
              "    </tr>\n",
              "    <tr>\n",
              "      <th>4</th>\n",
              "      <td>We need to revolutionize the world’s physical ...</td>\n",
              "    </tr>\n",
              "  </tbody>\n",
              "</table>\n",
              "</div>"
            ],
            "text/plain": [
              "                                              Tweets\n",
              "0  This new quiz from @Gapminder is a clever way ...\n",
              "1  Rashida Jones and I talked to Yuval Noah Harar...\n",
              "2  I believe we can avoid a climate disaster—if w...\n",
              "3  To reduce duplication, focus the government’s ...\n",
              "4  We need to revolutionize the world’s physical ..."
            ]
          },
          "metadata": {
            "tags": []
          },
          "execution_count": 12
        }
      ]
    },
    {
      "cell_type": "code",
      "metadata": {
        "colab": {
          "base_uri": "https://localhost:8080/",
          "height": 404
        },
        "id": "4JbI9VNByiZh",
        "outputId": "b4a19c85-2005-477a-8e5e-7bc870872f39"
      },
      "source": [
        "# Data Cleaning\n",
        "\n",
        "#Create a function to clean tweets\n",
        "\n",
        "def cleanTxt(text):\n",
        "  text = re.sub(r'@[A-Za-z0-9]+', '', text)  # r tells expression is raw string\n",
        "  text = re.sub(r'#', '', text) #remove # symbol\n",
        "  text = re.sub(r'RT[\\s]+','', text) #Removing retweet\n",
        "  text = re.sub(r'https?:\\/\\/\\S+','', text) #remove the hyperlink\n",
        "\n",
        "  return text\n",
        "\n",
        "#Cleaning the text\n",
        "df['Tweets'] = df['Tweets'].apply(cleanTxt) # ? check apply functions\n",
        "\n",
        "#Show the cleaned text\n",
        "df"
      ],
      "execution_count": null,
      "outputs": [
        {
          "output_type": "execute_result",
          "data": {
            "text/html": [
              "<div>\n",
              "<style scoped>\n",
              "    .dataframe tbody tr th:only-of-type {\n",
              "        vertical-align: middle;\n",
              "    }\n",
              "\n",
              "    .dataframe tbody tr th {\n",
              "        vertical-align: top;\n",
              "    }\n",
              "\n",
              "    .dataframe thead th {\n",
              "        text-align: right;\n",
              "    }\n",
              "</style>\n",
              "<table border=\"1\" class=\"dataframe\">\n",
              "  <thead>\n",
              "    <tr style=\"text-align: right;\">\n",
              "      <th></th>\n",
              "      <th>Tweets</th>\n",
              "    </tr>\n",
              "  </thead>\n",
              "  <tbody>\n",
              "    <tr>\n",
              "      <th>0</th>\n",
              "      <td>This new quiz from  is a clever way to fight m...</td>\n",
              "    </tr>\n",
              "    <tr>\n",
              "      <th>1</th>\n",
              "      <td>Rashida Jones and I talked to Yuval Noah Harar...</td>\n",
              "    </tr>\n",
              "    <tr>\n",
              "      <th>2</th>\n",
              "      <td>I believe we can avoid a climate disaster—if w...</td>\n",
              "    </tr>\n",
              "    <tr>\n",
              "      <th>3</th>\n",
              "      <td>To reduce duplication, focus the government’s ...</td>\n",
              "    </tr>\n",
              "    <tr>\n",
              "      <th>4</th>\n",
              "      <td>We need to revolutionize the world’s physical ...</td>\n",
              "    </tr>\n",
              "    <tr>\n",
              "      <th>...</th>\n",
              "      <td>...</td>\n",
              "    </tr>\n",
              "    <tr>\n",
              "      <th>95</th>\n",
              "      <td>: Here's what Juneteenth means to me:</td>\n",
              "    </tr>\n",
              "    <tr>\n",
              "      <th>96</th>\n",
              "      <td>: “It’s that clarity of language about the VAL...</td>\n",
              "    </tr>\n",
              "    <tr>\n",
              "      <th>97</th>\n",
              "      <td>: \"And I’ll never lose my faith that you and I...</td>\n",
              "    </tr>\n",
              "    <tr>\n",
              "      <th>98</th>\n",
              "      <td>: When I think of emancipation, I think of all...</td>\n",
              "    </tr>\n",
              "    <tr>\n",
              "      <th>99</th>\n",
              "      <td>: Happy Juneteenth fam! My latest for the . Fi...</td>\n",
              "    </tr>\n",
              "  </tbody>\n",
              "</table>\n",
              "<p>100 rows × 1 columns</p>\n",
              "</div>"
            ],
            "text/plain": [
              "                                               Tweets\n",
              "0   This new quiz from  is a clever way to fight m...\n",
              "1   Rashida Jones and I talked to Yuval Noah Harar...\n",
              "2   I believe we can avoid a climate disaster—if w...\n",
              "3   To reduce duplication, focus the government’s ...\n",
              "4   We need to revolutionize the world’s physical ...\n",
              "..                                                ...\n",
              "95             : Here's what Juneteenth means to me: \n",
              "96  : “It’s that clarity of language about the VAL...\n",
              "97  : \"And I’ll never lose my faith that you and I...\n",
              "98  : When I think of emancipation, I think of all...\n",
              "99  : Happy Juneteenth fam! My latest for the . Fi...\n",
              "\n",
              "[100 rows x 1 columns]"
            ]
          },
          "metadata": {
            "tags": []
          },
          "execution_count": 13
        }
      ]
    },
    {
      "cell_type": "code",
      "metadata": {
        "colab": {
          "base_uri": "https://localhost:8080/",
          "height": 404
        },
        "id": "aIZWfD6A2ugB",
        "outputId": "e7055819-1161-4cf9-fcf4-3c2ddbf8243c"
      },
      "source": [
        "#Create a function to get subjectivity\n",
        "\n",
        "def getSubjectivity(text):\n",
        "  return TextBlob(text).sentiment.subjectivity\n",
        "\n",
        "#Function to tell us polarity\n",
        "def getPolarity(text):\n",
        "  return TextBlob(text).sentiment.polarity\n",
        "\n",
        "#Create two columns\n",
        "df['Subjectivity'] = df['Tweets'].apply(getSubjectivity)\n",
        "df['Polarity'] = df['Tweets'].apply(getPolarity)\n",
        "\n",
        "#show the new dataframe with the new columns\n",
        "df"
      ],
      "execution_count": null,
      "outputs": [
        {
          "output_type": "execute_result",
          "data": {
            "text/html": [
              "<div>\n",
              "<style scoped>\n",
              "    .dataframe tbody tr th:only-of-type {\n",
              "        vertical-align: middle;\n",
              "    }\n",
              "\n",
              "    .dataframe tbody tr th {\n",
              "        vertical-align: top;\n",
              "    }\n",
              "\n",
              "    .dataframe thead th {\n",
              "        text-align: right;\n",
              "    }\n",
              "</style>\n",
              "<table border=\"1\" class=\"dataframe\">\n",
              "  <thead>\n",
              "    <tr style=\"text-align: right;\">\n",
              "      <th></th>\n",
              "      <th>Tweets</th>\n",
              "      <th>Subjectivity</th>\n",
              "      <th>Polarity</th>\n",
              "    </tr>\n",
              "  </thead>\n",
              "  <tbody>\n",
              "    <tr>\n",
              "      <th>0</th>\n",
              "      <td>This new quiz from  is a clever way to fight m...</td>\n",
              "      <td>0.729293</td>\n",
              "      <td>0.401010</td>\n",
              "    </tr>\n",
              "    <tr>\n",
              "      <th>1</th>\n",
              "      <td>Rashida Jones and I talked to Yuval Noah Harar...</td>\n",
              "      <td>0.358333</td>\n",
              "      <td>0.191667</td>\n",
              "    </tr>\n",
              "    <tr>\n",
              "      <th>2</th>\n",
              "      <td>I believe we can avoid a climate disaster—if w...</td>\n",
              "      <td>0.419643</td>\n",
              "      <td>0.246429</td>\n",
              "    </tr>\n",
              "    <tr>\n",
              "      <th>3</th>\n",
              "      <td>To reduce duplication, focus the government’s ...</td>\n",
              "      <td>0.477273</td>\n",
              "      <td>0.318182</td>\n",
              "    </tr>\n",
              "    <tr>\n",
              "      <th>4</th>\n",
              "      <td>We need to revolutionize the world’s physical ...</td>\n",
              "      <td>0.372619</td>\n",
              "      <td>-0.186111</td>\n",
              "    </tr>\n",
              "    <tr>\n",
              "      <th>...</th>\n",
              "      <td>...</td>\n",
              "      <td>...</td>\n",
              "      <td>...</td>\n",
              "    </tr>\n",
              "    <tr>\n",
              "      <th>95</th>\n",
              "      <td>: Here's what Juneteenth means to me:</td>\n",
              "      <td>0.000000</td>\n",
              "      <td>0.000000</td>\n",
              "    </tr>\n",
              "    <tr>\n",
              "      <th>96</th>\n",
              "      <td>: “It’s that clarity of language about the VAL...</td>\n",
              "      <td>0.433333</td>\n",
              "      <td>-0.166667</td>\n",
              "    </tr>\n",
              "    <tr>\n",
              "      <th>97</th>\n",
              "      <td>: \"And I’ll never lose my faith that you and I...</td>\n",
              "      <td>0.000000</td>\n",
              "      <td>0.000000</td>\n",
              "    </tr>\n",
              "    <tr>\n",
              "      <th>98</th>\n",
              "      <td>: When I think of emancipation, I think of all...</td>\n",
              "      <td>0.000000</td>\n",
              "      <td>0.000000</td>\n",
              "    </tr>\n",
              "    <tr>\n",
              "      <th>99</th>\n",
              "      <td>: Happy Juneteenth fam! My latest for the . Fi...</td>\n",
              "      <td>0.700000</td>\n",
              "      <td>0.833333</td>\n",
              "    </tr>\n",
              "  </tbody>\n",
              "</table>\n",
              "<p>100 rows × 3 columns</p>\n",
              "</div>"
            ],
            "text/plain": [
              "                                               Tweets  Subjectivity  Polarity\n",
              "0   This new quiz from  is a clever way to fight m...      0.729293  0.401010\n",
              "1   Rashida Jones and I talked to Yuval Noah Harar...      0.358333  0.191667\n",
              "2   I believe we can avoid a climate disaster—if w...      0.419643  0.246429\n",
              "3   To reduce duplication, focus the government’s ...      0.477273  0.318182\n",
              "4   We need to revolutionize the world’s physical ...      0.372619 -0.186111\n",
              "..                                                ...           ...       ...\n",
              "95             : Here's what Juneteenth means to me:       0.000000  0.000000\n",
              "96  : “It’s that clarity of language about the VAL...      0.433333 -0.166667\n",
              "97  : \"And I’ll never lose my faith that you and I...      0.000000  0.000000\n",
              "98  : When I think of emancipation, I think of all...      0.000000  0.000000\n",
              "99  : Happy Juneteenth fam! My latest for the . Fi...      0.700000  0.833333\n",
              "\n",
              "[100 rows x 3 columns]"
            ]
          },
          "metadata": {
            "tags": []
          },
          "execution_count": 14
        }
      ]
    },
    {
      "cell_type": "code",
      "metadata": {
        "colab": {
          "base_uri": "https://localhost:8080/",
          "height": 248
        },
        "id": "zJgCtGCE3y54",
        "outputId": "2082b39c-f6af-4669-cbea-8114744b761c"
      },
      "source": [
        "#Plot the Word Cloud\n",
        "\n",
        "allWords = ' '.join([twts for twts in df['Tweets']])\n",
        "wordCloud = WordCloud(width = 500, height=300, random_state = 21, max_font_size=119).generate(allWords)\n",
        "\n",
        "plt.imshow(wordCloud, interpolation=\"bilinear\")\n",
        "plt.axis('off')\n",
        "plt.show()"
      ],
      "execution_count": null,
      "outputs": [
        {
          "output_type": "display_data",
          "data": {
            "image/png": "[encoded data removed]",
            "text/plain": [
              "<Figure size 432x288 with 1 Axes>"
            ]
          },
          "metadata": {
            "tags": [],
            "needs_background": "light"
          }
        }
      ]
    },
    {
      "cell_type": "code",
      "metadata": {
        "colab": {
          "base_uri": "https://localhost:8080/",
          "height": 404
        },
        "id": "5-oBfPKS5pFq",
        "outputId": "0f54f499-002f-41a2-c790-1b25c9e17e97"
      },
      "source": [
        "#Create a function to compute the negative neutral and positive analysis\n",
        "\n",
        "def getAnalysis(score):\n",
        "  if score < 0:\n",
        "    return 'Negative'\n",
        "  elif score == 0:\n",
        "    return 'Neutral'\n",
        "  else:\n",
        "    return 'Positive'\n",
        "\n",
        "df['Analysis'] = df['Polarity'].apply(getAnalysis)\n",
        "\n",
        "#Show the dataframe\n",
        "df"
      ],
      "execution_count": null,
      "outputs": [
        {
          "output_type": "execute_result",
          "data": {
            "text/html": [
              "<div>\n",
              "<style scoped>\n",
              "    .dataframe tbody tr th:only-of-type {\n",
              "        vertical-align: middle;\n",
              "    }\n",
              "\n",
              "    .dataframe tbody tr th {\n",
              "        vertical-align: top;\n",
              "    }\n",
              "\n",
              "    .dataframe thead th {\n",
              "        text-align: right;\n",
              "    }\n",
              "</style>\n",
              "<table border=\"1\" class=\"dataframe\">\n",
              "  <thead>\n",
              "    <tr style=\"text-align: right;\">\n",
              "      <th></th>\n",
              "      <th>Tweets</th>\n",
              "      <th>Subjectivity</th>\n",
              "      <th>Polarity</th>\n",
              "      <th>Analysis</th>\n",
              "    </tr>\n",
              "  </thead>\n",
              "  <tbody>\n",
              "    <tr>\n",
              "      <th>0</th>\n",
              "      <td>This new quiz from  is a clever way to fight m...</td>\n",
              "      <td>0.729293</td>\n",
              "      <td>0.401010</td>\n",
              "      <td>Positive</td>\n",
              "    </tr>\n",
              "    <tr>\n",
              "      <th>1</th>\n",
              "      <td>Rashida Jones and I talked to Yuval Noah Harar...</td>\n",
              "      <td>0.358333</td>\n",
              "      <td>0.191667</td>\n",
              "      <td>Positive</td>\n",
              "    </tr>\n",
              "    <tr>\n",
              "      <th>2</th>\n",
              "      <td>I believe we can avoid a climate disaster—if w...</td>\n",
              "      <td>0.419643</td>\n",
              "      <td>0.246429</td>\n",
              "      <td>Positive</td>\n",
              "    </tr>\n",
              "    <tr>\n",
              "      <th>3</th>\n",
              "      <td>To reduce duplication, focus the government’s ...</td>\n",
              "      <td>0.477273</td>\n",
              "      <td>0.318182</td>\n",
              "      <td>Positive</td>\n",
              "    </tr>\n",
              "    <tr>\n",
              "      <th>4</th>\n",
              "      <td>We need to revolutionize the world’s physical ...</td>\n",
              "      <td>0.372619</td>\n",
              "      <td>-0.186111</td>\n",
              "      <td>Negative</td>\n",
              "    </tr>\n",
              "    <tr>\n",
              "      <th>...</th>\n",
              "      <td>...</td>\n",
              "      <td>...</td>\n",
              "      <td>...</td>\n",
              "      <td>...</td>\n",
              "    </tr>\n",
              "    <tr>\n",
              "      <th>95</th>\n",
              "      <td>: Here's what Juneteenth means to me:</td>\n",
              "      <td>0.000000</td>\n",
              "      <td>0.000000</td>\n",
              "      <td>Neutral</td>\n",
              "    </tr>\n",
              "    <tr>\n",
              "      <th>96</th>\n",
              "      <td>: “It’s that clarity of language about the VAL...</td>\n",
              "      <td>0.433333</td>\n",
              "      <td>-0.166667</td>\n",
              "      <td>Negative</td>\n",
              "    </tr>\n",
              "    <tr>\n",
              "      <th>97</th>\n",
              "      <td>: \"And I’ll never lose my faith that you and I...</td>\n",
              "      <td>0.000000</td>\n",
              "      <td>0.000000</td>\n",
              "      <td>Neutral</td>\n",
              "    </tr>\n",
              "    <tr>\n",
              "      <th>98</th>\n",
              "      <td>: When I think of emancipation, I think of all...</td>\n",
              "      <td>0.000000</td>\n",
              "      <td>0.000000</td>\n",
              "      <td>Neutral</td>\n",
              "    </tr>\n",
              "    <tr>\n",
              "      <th>99</th>\n",
              "      <td>: Happy Juneteenth fam! My latest for the . Fi...</td>\n",
              "      <td>0.700000</td>\n",
              "      <td>0.833333</td>\n",
              "      <td>Positive</td>\n",
              "    </tr>\n",
              "  </tbody>\n",
              "</table>\n",
              "<p>100 rows × 4 columns</p>\n",
              "</div>"
            ],
            "text/plain": [
              "                                               Tweets  ...  Analysis\n",
              "0   This new quiz from  is a clever way to fight m...  ...  Positive\n",
              "1   Rashida Jones and I talked to Yuval Noah Harar...  ...  Positive\n",
              "2   I believe we can avoid a climate disaster—if w...  ...  Positive\n",
              "3   To reduce duplication, focus the government’s ...  ...  Positive\n",
              "4   We need to revolutionize the world’s physical ...  ...  Negative\n",
              "..                                                ...  ...       ...\n",
              "95             : Here's what Juneteenth means to me:   ...   Neutral\n",
              "96  : “It’s that clarity of language about the VAL...  ...  Negative\n",
              "97  : \"And I’ll never lose my faith that you and I...  ...   Neutral\n",
              "98  : When I think of emancipation, I think of all...  ...   Neutral\n",
              "99  : Happy Juneteenth fam! My latest for the . Fi...  ...  Positive\n",
              "\n",
              "[100 rows x 4 columns]"
            ]
          },
          "metadata": {
            "tags": []
          },
          "execution_count": 18
        }
      ]
    },
    {
      "cell_type": "code",
      "metadata": {
        "colab": {
          "base_uri": "https://localhost:8080/"
        },
        "id": "3FfWcPX178CH",
        "outputId": "a7059d2d-bb64-49e7-8ef7-4f25ab3c9aa2"
      },
      "source": [
        "#Print all of the positive tweets\n",
        "j=1\n",
        "sortedDF = df.sort_values(by=['Polarity'])\n",
        "for i in range(0,sortedDF.shape[0]):\n",
        "  if (sortedDF['Analysis'][i] == 'Positive'):\n",
        "    print(str(j) + ') ' + sortedDF['Tweets'][i])\n",
        "    print()\n",
        "    j = j + 1"
      ],
      "execution_count": null,
      "outputs": [
        {
          "output_type": "stream",
          "text": [
            "1)This new quiz from  is a clever way to fight misconceptions and “upgrade your worldview” about the incredible progress the world has made toward the Sustainable Development Goals to end poverty, fight inequality, and stop climate change: \n",
            "\n",
            "2)Rashida Jones and I talked to Yuval Noah Harari about COVID conspiracy theories, the role social media plays in spreading misinformation, and the one lie I choose to believe even though I know it’s not always true:  \n",
            "\n",
            "3)I believe we can avoid a climate disaster—if we deploy the clean-energy tools we have now wisely, and if we make big breakthroughs that touch every aspect of our physical economy. Creating the National Institutes of Energy Innovation would put us on the right path.\n",
            "\n",
            "4)To reduce duplication, focus the government’s efforts, and get the most innovation out of every dollar of funding, we should create a new organization: the National Institutes of Energy Innovation.\n",
            "\n",
            "5)This the most important thing the U.S. can do to lead the world in innovations that will solve climate change. \n",
            "\n",
            "6)I’m inspired by Quarraisha Abdool Karim and . They are two of the most respected HIV/AIDS researchers in the world. And now they are helping guide the COVID-19 response in South Africa and around the globe.  WorldAIDSDay\n",
            "\n",
            "7): My parents taught me to leave the world better than I found it. \n",
            "\n",
            "So many people across the country believe in giving bac…\n",
            "\n",
            "8)I’m a big fan of author _yuval and was excited to talk to him about why humanity is so willing to believe falsehoods and what these lies tell us about ourselves—both as individuals and as a society. \n",
            "\n",
            "9): “I will continue fighting. I will continue supporting other patients. I will never give up.”\n",
            "\n",
            "Meet Aftab, a multi-drug resi…\n",
            "\n",
            "10)Today is the 25th anniversary of my first book, The Road Ahead. I made a lot of predictions about technology in the book, and it was fun to look back and see what I got right (and what I got wrong). \n",
            "\n",
            "11)This week, Rashida and I ask a big question that has never felt more urgent: is inequality inevitable? We spoke with Compton mayor  and  director Raj Chetty about what it’ll take to build a more equal society. \n",
            "\n",
            "12)You can listen to a bonus clip that didn’t make it into our latest episode here:  \n",
            "\n",
            "13): Full interview with : \n",
            "\n",
            "14)In our first podcast episode, Rashida Jones and I talked to Dr. Anthony Fauci about what to expect in the coming months and what the world will look like after COVID-19. \n",
            "\n",
            "15)More than 7 million community health workers serve their neighbors around the world, improving access to primary healthcare for their communities. Now they’re doing heroic work to respond to the pandemic. \n",
            "\n",
            "16): No one is safe from COVID-19 until everyone is safe. We started the foundation because we believe every person deserves t…\n",
            "\n",
            "17)Each week, we’ll talk about some of the biggest issues facing our world with special guests including authors, experts, and friends. \n",
            "\n",
            "18)I’m teaming up with Rashida Jones to ask the big questions. Check out our new podcast limited series starting Monday. You can subscribe here:  \n",
            "\n",
            "19)I look forward to working with the new administration and leaders on both sides in Congress on getting the surging pandemic under control, engaging partners around the world on issues like poverty and climate change, and addressing issues of inequality and opportunity at home.\n",
            "\n",
            "20)Congratulations to President-Elect Biden and Vice President-Elect Harris. Thank you to the election officials and campaign workers who worked tirelessly to ensure a record number of Americans could cast a ballot and have it counted during such an challenging time for our country.\n",
            "\n",
            "21)Here in Washington, we always vote by mail. It's a safe and secure way to shape the future of our country. But regardless of whether you vote by mail or in person this year, I hope you plan to make your voice heard. Visit  for more information.\n",
            "\n",
            "22)For decades,  has worked tirelessly to EndPolio. Today, the health infrastructure they’ve built around the world is supporting the COVID-19 response. WorldPolioDay \n",
            "\n",
            "23)I’ve been working for some time on a book about what we need to do over the next decade to avoid a climate disaster. I’m excited that it will be published on February 16. \n",
            "\n",
            "24)It’s inspiring to see so much passion these days for dealing with climate change, and to know that the world has set some ambitious goals for solving it. What we need now are practical plans to reach those goals.\n",
            "\n",
            "25)India’s research and manufacturing capacity are critical for fighting COVID-19. Thank you  for speaking at today’s Grand Challenges meeting.  \n",
            "\n",
            "26)Europe has an opportunity to get its economy back on track in a way that creates good jobs and reinforces its global climate leadership. Here are 55 ideas on how Europe can develop and scale up the innovative technologies we'll need to reach net-zero. \n",
            "\n",
            "27).’s work in the community is as inspiring as his amazing record on the basketball court. I really appreciated the thoughtful conversation. \n",
            "\n",
            "28)Dr. Tunji Funsho’s work with  was essential in stopping wild polio in Africa and will help create a polio-free world for all. A well-deserved recognition. \n",
            "\n",
            "29)I’m excited to see this kind of innovation. Detecting and predicting outbreaks earlier is critical to preventing epidemics. \n",
            "\n",
            "30)The only way to eliminate the threat of COVID-19 somewhere is to eliminate it everywhere. By making sure poor countries are equipped to stop this disease, wealthy countries will help themselves and bring this crisis to an end sooner. \n",
            "\n",
            "31)Understanding this concept can help us measure our progress toward eliminating carbon emissions and serve as a guide to action. \n",
            "\n",
            "32)Developing and manufacturing vaccines won’t end the pandemic quickly unless we also deliver them equitably. Here is why it’s critical that vaccines are distributed in proportion to the global population:  \n",
            "\n",
            "33)Great to see the UK commit vital funding to ensure COVID-19 vaccines are available for the world’s poorest people. PM 's plan will improve the way we prepare for future crises like this. \n",
            "\n",
            "34)After 20 years of stunning advances toward global goals to improve health and reduce poverty, the COVID-19 pandemic stopped progress in its tracks. In our foundation’s Goalkeepers report, we survey the damage and discuss how to start reversing it. \n",
            "\n",
            "35)Dr. John Nkengasong is a true Goalkeeper. His leadership will help ensure Africa has the tools it needs to fight COVID-19:  \n",
            "\n",
            "36)Justice Ginsburg was a trailblazer who devoted her entire career to fighting for equal justice for women, because she knew it would improve life for everyone. America is a better place because of her service. I am inspired by her life and legacy. \n",
            "\n",
            "37)My dad was the “real” Bill Gates. He was everything I try to be and I will miss him every day.\n",
            "\n",
            "\n",
            "\n",
            "38)Thank you to the heroes everywhere working to keep us safe. I hope their stories inspire you just as much as they have me:  \n",
            "\n",
            "39)These heroes represent the best of who we can be. Their efforts to solve the world’s challenges demonstrate our values as a society and they serve as powerful examples of how to make a positive difference in the world. \n",
            "\n",
            "40): Some countries responded successfully to the pandemic – and more broadly, some are much more successful in protecting t…\n",
            "\n",
            "41)Clinical trials are critical to helping researchers better understand Alzheimer's. Improving how we identify and enroll participants in those trials will accelerate progress on diagnosing and treating the disease. \n",
            "\n",
            "42)I tackle every big new problem by asking two questions: Who has dealt with this problem well? And what can we learn from them?  will help to fill the gap in global health knowledge sharing and to accelerate progress in saving lives. \n",
            "\n",
            "43)Of all the things I’ve learned from Warren Buffett (and there have been a lot), the most important might be what friendship is all about. Here’s why he’s a person that I admire as well as like: \n",
            "\n",
            "44)Happy 90th birthday, Warren! \n",
            "\n",
            "45)., thank you for making the world a healthier and more equitable place. Your understanding of how we can improve global prosperity, through support of organizations like , has been truly inspiring. Please now go take care of your own health.\n",
            "\n",
            "46): 6 months ago, Africa confirmed its first case of COVID19. Since then, there have been 1 million cases, affecting every country on…\n",
            "\n",
            "47)If we’re going to address climate change, we need to find new ways to do things that don’t release greenhouse gases—including how we move around. \n",
            "\n",
            "48)Today we move one step closer toward a world without polio. This is an incredible milestone that’s worth celebrating. It is also an important reminder of what can be accomplished when we work together toward a common goal. \n",
            "\n",
            "49): Thanks to the commitment of leaders from all 47 countries in the  Region, history was made today: the entire A…\n",
            "\n",
            "50)Mosquito City is home to the world’s largest captive colony of mosquitoes.  Institute is doing fascinating research there about mosquito behaviors and finding ways to outsmart them. \n",
            "\n",
            "51)Deaths from malaria have been cut by more than half since the year 2000. Increased bed net use is one of the main reasons why  WorldMosquitoDay\n",
            "\n",
            "52)Ridding the world of preventable, treatable diseases like malaria will save millions of lives and lead to healthier, more prosperous communities. And that will make them better prepared to confront any new health challenges like COVID-19 in the future.  \n",
            "\n",
            "53)The progress the world has made against malaria is one of the greatest success stories ever. The COVID-19 pandemic only reinforces why eradicating malaria is so essential. \n",
            "\n",
            "54): A safe and effective COVID19 vaccine is the way out of this devastating pandemic🌍\n",
            "\n",
            "Our Director of Vaccine R&amp;D, Melanie…\n",
            "\n",
            "55)Teaching special education takes an amazing person to figure out exactly what works for each child. Talking with Washington State Teacher of the Year Amy Campbell gave me an even greater appreciation for these educators:  \n",
            "\n",
            "56)Our foundation is partnering with  to support teachers as they get ready to go back to school—in whatever form that takes—and will boost your donations to the classroom project of your choice today. \n",
            "\n",
            "57)I always look forward to meeting Washington’s Teacher of the Year. This year’s recipient, Amy Campbell (_MrsCampbell), is a remarkable advocate for her students, and I loved learning about her approach to teaching special ed. \n",
            "\n",
            "58)The world did not do enough to prepare for a pandemic. We can avoid making the same mistake with climate change by:\n",
            "\n",
            "1. Letting science and innovation lead the way\n",
            "2. Making sure solutions work for poor countries too\n",
            "3. Getting started now\n",
            "\n",
            "\n",
            "\n",
            "59)Great tips from _Bergstrom about how to find reliable sources of information and test claims you may see about the pandemic in your social media feeds. \n",
            "\n",
            "60)The impacts of COVID-19 are driving worrying increases in malnutrition and health outcomes. However, there are clear actions that can be taken in both the near- and long-term. \n",
            "\n",
            "61)In these challenging times, we can’t lose sight of the importance of combatting climate change. I’m excited to hear about how companies like  are finding a way to play a role. \n",
            "\n",
            "62)It’s important that we continue to follow scientific data as we look for new tools to aid in the fight against coronavirus.  \n",
            "\n",
            "63)It’s hard to overstate how important finding a reliable, affordable, and easy-to-use diagnostic is for stopping Alzheimer’s. This is a big step towards that goal. \n",
            "\n",
            "64)\"Our best strategy in the age-old fight against the germs is our collaborative, data-based effort to study the world around us and within us. Our best strategy is science.\"  explains how vaccines have dramatically improved humanity’s ability to fight infectious disease. \n",
            "\n",
            "65): Not many of us get to live to see our own legacy play out in such a meaningful, remarkable way. John Lewis did:\n",
            "\n",
            "\n",
            "\n",
            "66)This is a great loss for America, and for everyone who believes in making the world a more just place. John Lewis not only saw that our country could be better--he never stopped working to make it that way. We need leaders like him more than ever. \n",
            "\n",
            "67): Decision-makers can take steps right now to make sure the world recovers from this pandemic stronger, more prepared &amp; mor…\n",
            "\n",
            "68)This hero is playing a critical role in Kenya’s preparations to tackle COVID-19 by scaling up medical oxygen supplies that will be needed to keep the most critically ill patients alive. \n",
            "\n",
            "69): Happy Juneteenth fam! My latest for the . Find joy today! The images from the article alone are giving me l…\n",
            "\n"
          ],
          "name": "stdout"
        }
      ]
    },
    {
      "cell_type": "code",
      "metadata": {
        "colab": {
          "base_uri": "https://localhost:8080/"
        },
        "id": "u0I85HDJ9LBl",
        "outputId": "099ab9d2-2e75-4907-a98c-67324c858136"
      },
      "source": [
        "#Print the negative tweets\n",
        "\n",
        "j=1\n",
        "sortedDF= df.sort_values(by=['Polarity'], ascending= False)\n",
        "for i in range(0, sortedDF.shape[0]):\n",
        "  if(sortedDF['Analysis'][i] == 'Negative'):\n",
        "    print(str(j) + ') ' + sortedDF['Tweets'][i])\n",
        "    print()\n",
        "    j = j+1"
      ],
      "execution_count": null,
      "outputs": [
        {
          "output_type": "stream",
          "text": [
            "1) We need to revolutionize the world’s physical economy—and that will take, among other things, a dramatic infusion of ingenuity, funding, and focus from the federal government.\n",
            "\n",
            "2) Nearly forty million people have Alzheimer’s or dementia today. We have no way to stop or even slow the disease at this point, but I’m hopeful the new Alzheimer’s Disease Data Initiative () will speed up progress. \n",
            "\n",
            "3) : Even with his busy schedule, Dr. Fauci took the time to sit down with me (AGAIN) and talk about what we’ve gotten right…\n",
            "\n",
            "4) : What do COVID-19 and malaria have to do with each other?  \n",
            "\n",
            "When COVID-19 struck, it disrupted the entire global healt…\n",
            "\n",
            "5) To prevent the worst effects of climate change, we need innovation across all sectors—especially in the hardest to decarbonize sectors—to get us on a viable path to net-zero emissions. \n",
            "\n",
            "6) Because of long-standing barriers that are made worse by COVID-19, hundreds of thousands of students with promise may never start college. This would be disastrous for these young people and for the country. Here’s what we’re doing to help: \n",
            "\n",
            "7) : Three lessons that have been central to the COVID19 response in South Africa, Liberia, &amp; other countries:\n",
            "🔸 Screening…\n",
            "\n",
            "8) Globally, a lack of medical oxygen–needed to treat pneumonia, malaria, and other diseases–leads to hundreds of thousands of deaths each year.  founded _Tele to address this often-overlooked challenge. \n",
            "\n",
            "9) : “It’s that clarity of language about the VALUE of black life in America that distinguishes Juneteenth as emancipation…\n",
            "\n"
          ],
          "name": "stdout"
        }
      ]
    },
    {
      "cell_type": "code",
      "metadata": {
        "colab": {
          "base_uri": "https://localhost:8080/",
          "height": 405
        },
        "id": "-q7pI7Hy-ER1",
        "outputId": "2a75c412-11cf-4d8e-cab4-77dfecf3276d"
      },
      "source": [
        "# Plot the polarity and subjectivity\n",
        "\n",
        "plt.figure(figsize=(8,6))\n",
        "for i in range(0, df.shape[0]):\n",
        "  plt.scatter(df['Polarity'][i], df['Subjectivity'][i], color='Blue')\n",
        "\n",
        "plt.title('Sentiment Analysis')\n",
        "plt.xlabel('Polarity')\n",
        "plt.ylabel('Subjectivity')\n",
        "plt.show()"
      ],
      "execution_count": null,
      "outputs": [
        {
          "output_type": "display_data",
          "data": {
            "image/png": "[encoded data removed]",
            "text/plain": [
              "<Figure size 576x432 with 1 Axes>"
            ]
          },
          "metadata": {
            "tags": [],
            "needs_background": "light"
          }
        }
      ]
    },
    {
      "cell_type": "code",
      "metadata": {
        "colab": {
          "base_uri": "https://localhost:8080/"
        },
        "id": "vexmujA9Czur",
        "outputId": "aab6a8e6-ac7d-4588-9b98-0497596c4b7e"
      },
      "source": [
        "# Get percentage of positive tweets\n",
        "\n",
        "ptweets = df[df.Analysis == 'Positive']\n",
        "ptweets = ptweets['Tweets']\n",
        "\n",
        "round((ptweets.shape[0] / df.shape[0])*100, 1)"
      ],
      "execution_count": null,
      "outputs": [
        {
          "output_type": "execute_result",
          "data": {
            "text/plain": [
              "69.0"
            ]
          },
          "metadata": {
            "tags": []
          },
          "execution_count": 26
        }
      ]
    },
    {
      "cell_type": "code",
      "metadata": {
        "colab": {
          "base_uri": "https://localhost:8080/"
        },
        "id": "9AFKQi3ODVVT",
        "outputId": "4e0af1b2-60be-4968-ba48-6f9a9d2dba82"
      },
      "source": [
        "# Get percentage of positive tweets\n",
        "\n",
        "ntweets = df[df.Analysis == 'Negative']\n",
        "ntweets = ntweets['Tweets']\n",
        "\n",
        "round((ntweets.shape[0] / df.shape[0])*100, 1)"
      ],
      "execution_count": null,
      "outputs": [
        {
          "output_type": "execute_result",
          "data": {
            "text/plain": [
              "9.0"
            ]
          },
          "metadata": {
            "tags": []
          },
          "execution_count": 29
        }
      ]
    },
    {
      "cell_type": "code",
      "metadata": {
        "colab": {
          "base_uri": "https://localhost:8080/",
          "height": 331
        },
        "id": "TeOMH7TPD5iT",
        "outputId": "a367dd80-fb93-4b93-8631-bb38fa7b386b"
      },
      "source": [
        "#Show the value counts\n",
        "\n",
        "df['Analysis'].value_counts()\n",
        "\n",
        "#plot and visualize the counts\n",
        "plt.title('Sentiment Analysis')\n",
        "plt.xlabel('Sentiment')\n",
        "plt.ylabel('Counts')\n",
        "df['Analysis'].value_counts().plot(kind='bar')\n",
        "plt.show()"
      ],
      "execution_count": null,
      "outputs": [
        {
          "output_type": "display_data",
          "data": {
            "image/png": "[encoded data removed]",
            "text/plain": [
              "<Figure size 432x288 with 1 Axes>"
            ]
          },
          "metadata": {
            "tags": [],
            "needs_background": "light"
          }
        }
      ]
    }
  ]
}